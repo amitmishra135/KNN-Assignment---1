{
 "cells": [
  {
   "cell_type": "markdown",
   "id": "aab2084a-97cb-4963-8327-e30e0c7e9141",
   "metadata": {},
   "source": [
    "Q1. What is the KNN algorithm?\n",
    "\n",
    "Answer ->"
   ]
  },
  {
   "cell_type": "markdown",
   "id": "53eb1f9d-53aa-4899-aa7e-47f7555ebc5d",
   "metadata": {},
   "source": [
    "The KNN (K-Nearest Neighbors) algorithm is a simple, instance-based learning method used for classification and regression tasks. \n",
    "It classifies a data point based on the majority class among its K nearest neighbors."
   ]
  },
  {
   "cell_type": "markdown",
   "id": "e690c371-4fd0-4a71-ae97-66a50c1c0c4f",
   "metadata": {},
   "source": [
    "Q2. How do you choose the value of K in KNN?\n",
    "\n",
    "Answer ->"
   ]
  },
  {
   "cell_type": "markdown",
   "id": "678ac1a6-187a-493c-9259-f0ea63917a9d",
   "metadata": {},
   "source": [
    "The value of K in KNN is chosen through cross-validation, balancing between too small (overfitting) and too large (underfitting) values \n",
    "to achieve optimal performance."
   ]
  },
  {
   "cell_type": "markdown",
   "id": "eed35ff9-81f0-4e0e-a587-6b4a84c05c34",
   "metadata": {},
   "source": [
    "Q3. What is the difference between KNN classifier and KNN regressor?\n",
    "\n",
    "Answer ->"
   ]
  },
  {
   "cell_type": "markdown",
   "id": "eb41d757-48bb-465f-8415-60017cda03e0",
   "metadata": {},
   "source": [
    "The KNN classifier assigns the majority class among the K nearest neighbors to the target point, while the KNN regressor takes the\n",
    "average (or weighted average) of the target values of the K nearest neighbors."
   ]
  },
  {
   "cell_type": "markdown",
   "id": "d70c1e78-8c9e-4777-a9e8-5697bb7c4f46",
   "metadata": {},
   "source": [
    "Q4. How do you measure the performance of KNN?\n",
    "\n",
    "Answer ->"
   ]
  },
  {
   "cell_type": "markdown",
   "id": "62eecd67-23a3-44bd-842b-0ce08e5d3882",
   "metadata": {},
   "source": [
    "Performance of KNN is measured using accuracy, precision, recall, and F1 score for classification, and using mean squared error (MSE) or\n",
    "mean absolute error (MAE) for regression."
   ]
  },
  {
   "cell_type": "markdown",
   "id": "e4ec77eb-8938-4569-8ddb-27c365106c0f",
   "metadata": {},
   "source": [
    "Q5. What is the curse of dimensionality in KNN?\n",
    "\n",
    "Answer ->"
   ]
  },
  {
   "cell_type": "markdown",
   "id": "363d22d4-934f-469e-b6d4-b044e9f12336",
   "metadata": {},
   "source": [
    "The curse of dimensionality in KNN refers to the problem where the distance between data points becomes less meaningful as the number \n",
    "of dimensions increases, making the algorithm less effective."
   ]
  },
  {
   "cell_type": "markdown",
   "id": "4c603283-bd35-4c22-9ca3-305a717f1974",
   "metadata": {},
   "source": [
    "Q6. How do you handle missing values in KNN?\n",
    "\n",
    "Answer ->"
   ]
  },
  {
   "cell_type": "markdown",
   "id": "b48906eb-505f-467a-accf-153fdc08044b",
   "metadata": {},
   "source": [
    "Missing values in KNN can be handled by imputation (filling in missing values using methods like mean, median, or mode), or\n",
    "by ignoring features with missing values during distance calculation."
   ]
  },
  {
   "cell_type": "markdown",
   "id": "1b078e6a-0416-4fd4-9ba8-929038c3ed54",
   "metadata": {},
   "source": [
    "Q7. Compare and contrast the performance of the KNN classifier and regressor. Which one is better for which type of problem?\n",
    "\n",
    "Answer ->"
   ]
  },
  {
   "cell_type": "markdown",
   "id": "b4628e00-5c6c-4ab7-87cd-b91b0a32c26f",
   "metadata": {},
   "source": [
    "The KNN classifier is better for discrete, categorical targets, while the KNN regressor is suited for continuous, numerical targets. \n",
    "The classifier is used in tasks like spam detection, while the regressor is used in predicting house prices."
   ]
  },
  {
   "cell_type": "markdown",
   "id": "df0e1536-d5b6-42eb-83f4-708cd13e8382",
   "metadata": {},
   "source": [
    "Q8. What are the strengths and weaknesses of the KNN algorithm for classification and regression tasks, and how can these be addressed?\n",
    "\n",
    "Answer ->"
   ]
  },
  {
   "cell_type": "markdown",
   "id": "8e25c957-093b-4590-af46-ca95a1fa220e",
   "metadata": {},
   "source": [
    "Strengths:\n",
    "\n",
    "* Simple and easy to implement.\n",
    "* No training phase, making it fast for small datasets.\n",
    "\n",
    "Weaknesses:\n",
    "\n",
    "* Computationally expensive at prediction time.\n",
    "* Sensitive to irrelevant features and the curse of dimensionality.\n",
    "\n",
    "These can be addressed by:\n",
    "\n",
    "* Using efficient data structures like KD-trees.\n",
    "* Feature selection and dimensionality reduction techniques.\n"
   ]
  },
  {
   "cell_type": "markdown",
   "id": "fadb5c47-9c1a-41a2-baa0-3c6985126e38",
   "metadata": {},
   "source": [
    "Q9. What is the difference between Euclidean distance and Manhattan distance in KNN?\n",
    "\n",
    "Answer ->"
   ]
  },
  {
   "cell_type": "markdown",
   "id": "c33dd637-9193-4b94-81a1-6241d2a28c1d",
   "metadata": {},
   "source": [
    "Euclidean distance measures the straight-line distance between two points in Euclidean space, while Manhattan distance measures the sum of \n",
    "the absolute differences of their coordinates, often used in grid-like structures."
   ]
  },
  {
   "cell_type": "markdown",
   "id": "b4e322fb-1229-42d1-9cec-0292e45d6dce",
   "metadata": {},
   "source": [
    "Q10. What is the role of feature scaling in KNN?\n",
    "\n",
    "Answer ->"
   ]
  },
  {
   "cell_type": "markdown",
   "id": "9b872279-2467-4631-b4b1-475b85321350",
   "metadata": {},
   "source": [
    "Feature scaling ensures that all features contribute equally to the distance calculations in KNN, preventing features with larger ranges \n",
    "from dominating the distance metric."
   ]
  },
  {
   "cell_type": "code",
   "execution_count": null,
   "id": "f7dfacaa-b42e-4e84-a585-654eac46789c",
   "metadata": {},
   "outputs": [],
   "source": []
  }
 ],
 "metadata": {
  "kernelspec": {
   "display_name": "Python 3 (ipykernel)",
   "language": "python",
   "name": "python3"
  },
  "language_info": {
   "codemirror_mode": {
    "name": "ipython",
    "version": 3
   },
   "file_extension": ".py",
   "mimetype": "text/x-python",
   "name": "python",
   "nbconvert_exporter": "python",
   "pygments_lexer": "ipython3",
   "version": "3.10.8"
  }
 },
 "nbformat": 4,
 "nbformat_minor": 5
}
